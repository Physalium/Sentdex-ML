{
 "nbformat": 4,
 "nbformat_minor": 2,
 "metadata": {
  "language_info": {
   "name": "python",
   "codemirror_mode": {
    "name": "ipython",
    "version": 3
   },
   "version": "3.8.2-final"
  },
  "orig_nbformat": 2,
  "file_extension": ".py",
  "mimetype": "text/x-python",
  "name": "python",
  "npconvert_exporter": "python",
  "pygments_lexer": "ipython3",
  "version": 3,
  "kernelspec": {
   "name": "python38264bit2df36e375e7148feac3a50964c242b1c",
   "display_name": "Python 3.8.2 64-bit"
  }
 },
 "cells": [
  {
   "cell_type": "code",
   "execution_count": 2,
   "metadata": {},
   "outputs": [
    {
     "output_type": "stream",
     "name": "stdout",
     "text": "0.3667433190858139\nmodel predicts 2841.795611927964, real value: 694\nmodel predicts 4889.751847626035, real value: 7988\nmodel predicts 3548.2756628876377, real value: 2443\nmodel predicts 3005.993218518811, real value: 1621\nmodel predicts 6064.421909822528, real value: 13253\nmodel predicts 3207.8975355620078, real value: 622\nmodel predicts 3054.736766905376, real value: 830\nmodel predicts 3077.7358449730664, real value: 900\nmodel predicts 3045.700045451051, real value: 1125\nmodel predicts 2901.5626260147797, real value: 473\n"
    }
   ],
   "source": [
    "import sklearn\n",
    "from sklearn import svm, preprocessing\n",
    "\n",
    "df = sklearn.utils.shuffle(df) # always shuffle your data to avoid any biases that may emerge b/c of some order.\n",
    "\n",
    "X = df.drop(\"price\", axis=1).values\n",
    "X = preprocessing.scale(X)\n",
    "y = df[\"price\"].values\n",
    "\n",
    "test_size = 200\n",
    "\n",
    "X_train = X[:-test_size]\n",
    "y_train = y[:-test_size]\n",
    "\n",
    "X_test = X[-test_size:]\n",
    "y_test = y[-test_size:]\n",
    "\n",
    "clf = svm.SVR(max_iter=10000)\n",
    "\n",
    "clf.fit(X_train, y_train)\n",
    "print(clf.score(X_test, y_test))\n",
    "\n",
    "for X,y in list(zip(X_test, y_test))[:10]:\n",
    "    print(f\"model predicts {clf.predict([X])[0]}, real value: {y}\")"
   ]
  },
  {
   "cell_type": "code",
   "execution_count": null,
   "metadata": {
    "tags": [
     "outputPrepend",
     "outputPrepend",
     "outputPrepend",
     "outputPrepend",
     "outputPrepend",
     "outputPrepend",
     "outputPrepend",
     "outputPrepend",
     "outputPrepend",
     "outputPrepend",
     "outputPrepend",
     "outputPrepend",
     "outputPrepend",
     "outputPrepend"
    ]
   },
   "outputs": [],
   "source": [
    "import pandas as pd\n",
    "df=pd.read_csv(\"datasets/minwage.csv\")\n",
    "gb=df.groupby(\"State\")\n",
    "\n",
    "act_min_wage = pd.DataFrame()\n",
    "\n",
    "for name, group in df.groupby(\"State\"):\n",
    "    if act_min_wage.empty:\n",
    "        act_min_wage = group.set_index(\"Year\")[[\"Low.2018\"]].rename(columns={\"Low.2018\":name})\n",
    "    else:\n",
    "        act_min_wage = act_min_wage.join(group.set_index(\"Year\")[[\"Low.2018\"]].rename(columns={\"Low.2018\":name}))\n",
    "\n",
    "act_min_wage.describe()\n",
    ""
   ]
  },
  {
   "cell_type": "code",
   "execution_count": null,
   "metadata": {},
   "outputs": [],
   "source": [
    "import pandas as pd\n",
    "df=pd.read_csv(\"datasets/avocado.csv\")\n",
    "df['Date'] = pd.to_datetime(df['Date'])\n",
    "#df.head()\n",
    "#df.tail(1)\n",
    "#df['AveragePrice'].head()\n",
    "#df.AveragePrice.head()\n",
    "albany_df = df[df['region']==\"Albany\"]\n",
    "albany_df.set_index(\"Date\",inplace=True)\n",
    "albany_df.sort_index(inplace=True)\n",
    "albany_df['price25ma']=albany_df[\"AveragePrice\"].rolling(25).mean()\n",
    "#albany_df.price25ma.plot()\n",
    "albany_df.tail()\n",
    "df.region.unique()\n"
   ]
  }
 ]
}