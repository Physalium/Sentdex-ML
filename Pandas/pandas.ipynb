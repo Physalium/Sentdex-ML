{
 "nbformat": 4,
 "nbformat_minor": 2,
 "metadata": {
  "language_info": {
   "name": "python",
   "codemirror_mode": {
    "name": "ipython",
    "version": 3
   },
   "version": "3.8.2-final"
  },
  "orig_nbformat": 2,
  "file_extension": ".py",
  "mimetype": "text/x-python",
  "name": "python",
  "npconvert_exporter": "python",
  "pygments_lexer": "ipython3",
  "version": 3,
  "kernelspec": {
   "name": "python38264bit2df36e375e7148feac3a50964c242b1c",
   "display_name": "Python 3.8.2 64-bit"
  }
 },
 "cells": [
  {
   "cell_type": "code",
   "execution_count": 12,
   "metadata": {},
   "outputs": [
    {
     "output_type": "execute_result",
     "data": {
      "text/plain": "   carat  cut  color  clarity  depth  table  price     x     y     z\n1   0.23    5      6        4   61.5   55.0    326  3.95  3.98  2.43\n2   0.21    4      6        5   59.8   61.0    326  3.89  3.84  2.31\n3   0.23    2      6        7   56.9   65.0    327  4.05  4.07  2.31\n4   0.29    4      2        6   62.4   58.0    334  4.20  4.23  2.63\n5   0.31    2      1        4   63.3   58.0    335  4.34  4.35  2.75",
      "text/html": "<div>\n<style scoped>\n    .dataframe tbody tr th:only-of-type {\n        vertical-align: middle;\n    }\n\n    .dataframe tbody tr th {\n        vertical-align: top;\n    }\n\n    .dataframe thead th {\n        text-align: right;\n    }\n</style>\n<table border=\"1\" class=\"dataframe\">\n  <thead>\n    <tr style=\"text-align: right;\">\n      <th></th>\n      <th>carat</th>\n      <th>cut</th>\n      <th>color</th>\n      <th>clarity</th>\n      <th>depth</th>\n      <th>table</th>\n      <th>price</th>\n      <th>x</th>\n      <th>y</th>\n      <th>z</th>\n    </tr>\n  </thead>\n  <tbody>\n    <tr>\n      <th>1</th>\n      <td>0.23</td>\n      <td>5</td>\n      <td>6</td>\n      <td>4</td>\n      <td>61.5</td>\n      <td>55.0</td>\n      <td>326</td>\n      <td>3.95</td>\n      <td>3.98</td>\n      <td>2.43</td>\n    </tr>\n    <tr>\n      <th>2</th>\n      <td>0.21</td>\n      <td>4</td>\n      <td>6</td>\n      <td>5</td>\n      <td>59.8</td>\n      <td>61.0</td>\n      <td>326</td>\n      <td>3.89</td>\n      <td>3.84</td>\n      <td>2.31</td>\n    </tr>\n    <tr>\n      <th>3</th>\n      <td>0.23</td>\n      <td>2</td>\n      <td>6</td>\n      <td>7</td>\n      <td>56.9</td>\n      <td>65.0</td>\n      <td>327</td>\n      <td>4.05</td>\n      <td>4.07</td>\n      <td>2.31</td>\n    </tr>\n    <tr>\n      <th>4</th>\n      <td>0.29</td>\n      <td>4</td>\n      <td>2</td>\n      <td>6</td>\n      <td>62.4</td>\n      <td>58.0</td>\n      <td>334</td>\n      <td>4.20</td>\n      <td>4.23</td>\n      <td>2.63</td>\n    </tr>\n    <tr>\n      <th>5</th>\n      <td>0.31</td>\n      <td>2</td>\n      <td>1</td>\n      <td>4</td>\n      <td>63.3</td>\n      <td>58.0</td>\n      <td>335</td>\n      <td>4.34</td>\n      <td>4.35</td>\n      <td>2.75</td>\n    </tr>\n  </tbody>\n</table>\n</div>"
     },
     "metadata": {},
     "execution_count": 12
    }
   ],
   "source": [
    "import pandas as pd\n",
    "improt sklearn\n",
    "from sklearn.linear_model import SGDRegressor\n",
    "\n",
    "df = pd.read_csv(\"datasets/diamonds.csv\", index_col=0)\n",
    "cut_class_dict = {\"Fair\": 1, \"Good\": 2, \"Very Good\": 3, \"Premium\": 4, \"Ideal\": 5}\n",
    "clarity_dict = {\"I3\": 1, \"I2\": 2, \"I1\": 3, \"SI2\": 4, \"SI1\" : 5, \"VS2\": 6, \"VS1\": 7, \"VVS2\": 8, \"VVS1\": 9, \"IF\": 10, \"FL\": 11}\n",
    "color_dict = {\"J\": 1,\"I\": 2,\"H\": 3,\"G\": 4,\"F\": 5,\"E\": 6,\"D\": 7}\n",
    "df['cut'] = df['cut'].map(cut_class_dict)\n",
    "df['clarity'] = df['clarity'].map(clarity_dict)\n",
    "df['color'] = df['color'].map(color_dict)\n",
    "\n",
    "df=sklearn.utilis."
   ]
  },
  {
   "cell_type": "code",
   "execution_count": 36,
   "metadata": {
    "tags": [
     "outputPrepend",
     "outputPrepend",
     "outputPrepend",
     "outputPrepend",
     "outputPrepend",
     "outputPrepend",
     "outputPrepend",
     "outputPrepend",
     "outputPrepend",
     "outputPrepend",
     "outputPrepend",
     "outputPrepend",
     "outputPrepend",
     "outputPrepend"
    ]
   },
   "outputs": [
    {
     "output_type": "execute_result",
     "data": {
      "text/plain": "       Alabama     Alaska    Arizona  ...  West Virginia  Wisconsin    Wyoming\ncount     50.0  50.000000  50.000000  ...      50.000000  50.000000  50.000000\nmean       0.0   9.583800   2.316200  ...       7.166400   7.694200   5.149200\nstd        0.0   1.845176   3.474504  ...       0.793673   0.762675   1.998928\nmin        0.0   7.380000   0.000000  ...       5.580000   6.420000   2.260000\n25%        0.0   8.252500   0.000000  ...       6.630000   7.107500   3.270000\n50%        0.0   8.890000   0.000000  ...       7.075000   7.580000   5.445000\n75%        0.0  10.492500   3.147500  ...       7.612500   8.145000   6.607500\nmax        0.0  15.120000  10.220000  ...       9.130000   9.660000   8.980000\n\n[8 rows x 55 columns]",
      "text/html": "<div>\n<style scoped>\n    .dataframe tbody tr th:only-of-type {\n        vertical-align: middle;\n    }\n\n    .dataframe tbody tr th {\n        vertical-align: top;\n    }\n\n    .dataframe thead th {\n        text-align: right;\n    }\n</style>\n<table border=\"1\" class=\"dataframe\">\n  <thead>\n    <tr style=\"text-align: right;\">\n      <th></th>\n      <th>Alabama</th>\n      <th>Alaska</th>\n      <th>Arizona</th>\n      <th>Arkansas</th>\n      <th>California</th>\n      <th>Colorado</th>\n      <th>Connecticut</th>\n      <th>Delaware</th>\n      <th>District of Columbia</th>\n      <th>Federal (FLSA)</th>\n      <th>Florida</th>\n      <th>Georgia</th>\n      <th>Guam</th>\n      <th>Hawaii</th>\n      <th>Idaho</th>\n      <th>Illinois</th>\n      <th>Indiana</th>\n      <th>Iowa</th>\n      <th>Kansas</th>\n      <th>Kentucky</th>\n      <th>Louisiana</th>\n      <th>Maine</th>\n      <th>Maryland</th>\n      <th>Massachusetts</th>\n      <th>Michigan</th>\n      <th>Minnesota</th>\n      <th>Mississippi</th>\n      <th>Missouri</th>\n      <th>Montana</th>\n      <th>Nebraska</th>\n      <th>Nevada</th>\n      <th>New Hampshire</th>\n      <th>New Jersey</th>\n      <th>New Mexico</th>\n      <th>New York</th>\n      <th>North Carolina</th>\n      <th>North Dakota</th>\n      <th>Ohio</th>\n      <th>Oklahoma</th>\n      <th>Oregon</th>\n      <th>Pennsylvania</th>\n      <th>Puerto Rico</th>\n      <th>Rhode Island</th>\n      <th>South Carolina</th>\n      <th>South Dakota</th>\n      <th>Tennessee</th>\n      <th>Texas</th>\n      <th>U.S. Virgin Islands</th>\n      <th>Utah</th>\n      <th>Vermont</th>\n      <th>Virginia</th>\n      <th>Washington</th>\n      <th>West Virginia</th>\n      <th>Wisconsin</th>\n      <th>Wyoming</th>\n    </tr>\n  </thead>\n  <tbody>\n    <tr>\n      <th>count</th>\n      <td>50.0</td>\n      <td>50.000000</td>\n      <td>50.000000</td>\n      <td>50.000000</td>\n      <td>50.000000</td>\n      <td>50.000000</td>\n      <td>50.000000</td>\n      <td>50.000000</td>\n      <td>50.000000</td>\n      <td>50.000000</td>\n      <td>50.000000</td>\n      <td>50.000000</td>\n      <td>50.000000</td>\n      <td>50.000000</td>\n      <td>50.00000</td>\n      <td>50.000000</td>\n      <td>50.000000</td>\n      <td>50.000000</td>\n      <td>50.000000</td>\n      <td>50.000000</td>\n      <td>50.0</td>\n      <td>50.000000</td>\n      <td>50.000000</td>\n      <td>50.000000</td>\n      <td>50.000000</td>\n      <td>50.000000</td>\n      <td>50.0</td>\n      <td>50.000000</td>\n      <td>50.000000</td>\n      <td>50.000000</td>\n      <td>50.000000</td>\n      <td>50.000000</td>\n      <td>50.000000</td>\n      <td>50.000000</td>\n      <td>50.000000</td>\n      <td>50.000000</td>\n      <td>50.000000</td>\n      <td>50.000000</td>\n      <td>50.00000</td>\n      <td>50.000000</td>\n      <td>50.000000</td>\n      <td>50.000000</td>\n      <td>50.000000</td>\n      <td>50.0</td>\n      <td>50.000000</td>\n      <td>50.0</td>\n      <td>50.000000</td>\n      <td>39.000000</td>\n      <td>50.000000</td>\n      <td>50.000000</td>\n      <td>50.000000</td>\n      <td>50.000000</td>\n      <td>50.000000</td>\n      <td>50.000000</td>\n      <td>50.000000</td>\n    </tr>\n    <tr>\n      <th>mean</th>\n      <td>0.0</td>\n      <td>9.583800</td>\n      <td>2.316200</td>\n      <td>6.781600</td>\n      <td>8.632800</td>\n      <td>6.389800</td>\n      <td>8.823600</td>\n      <td>7.498800</td>\n      <td>8.343200</td>\n      <td>7.773200</td>\n      <td>1.980600</td>\n      <td>4.909800</td>\n      <td>8.076600</td>\n      <td>8.292800</td>\n      <td>6.93520</td>\n      <td>6.779200</td>\n      <td>6.301600</td>\n      <td>4.088800</td>\n      <td>3.674400</td>\n      <td>6.314400</td>\n      <td>0.0</td>\n      <td>8.191800</td>\n      <td>7.845600</td>\n      <td>8.762000</td>\n      <td>7.781400</td>\n      <td>6.656600</td>\n      <td>0.0</td>\n      <td>4.052000</td>\n      <td>5.863200</td>\n      <td>6.527800</td>\n      <td>7.583800</td>\n      <td>7.939000</td>\n      <td>8.116600</td>\n      <td>7.202200</td>\n      <td>8.298600</td>\n      <td>7.370200</td>\n      <td>6.995400</td>\n      <td>6.050400</td>\n      <td>5.48460</td>\n      <td>8.510600</td>\n      <td>7.844400</td>\n      <td>3.588400</td>\n      <td>8.323000</td>\n      <td>0.0</td>\n      <td>6.739600</td>\n      <td>0.0</td>\n      <td>5.541200</td>\n      <td>6.643590</td>\n      <td>6.836600</td>\n      <td>8.657400</td>\n      <td>5.897400</td>\n      <td>8.301800</td>\n      <td>7.166400</td>\n      <td>7.694200</td>\n      <td>5.149200</td>\n    </tr>\n    <tr>\n      <th>std</th>\n      <td>0.0</td>\n      <td>1.845176</td>\n      <td>3.474504</td>\n      <td>1.341223</td>\n      <td>1.187508</td>\n      <td>1.521052</td>\n      <td>1.023613</td>\n      <td>1.265436</td>\n      <td>1.476133</td>\n      <td>0.887354</td>\n      <td>3.561576</td>\n      <td>1.887927</td>\n      <td>1.229897</td>\n      <td>0.877401</td>\n      <td>1.00724</td>\n      <td>2.385091</td>\n      <td>1.275628</td>\n      <td>3.835916</td>\n      <td>2.466736</td>\n      <td>1.343869</td>\n      <td>0.0</td>\n      <td>0.938459</td>\n      <td>0.907239</td>\n      <td>1.121988</td>\n      <td>1.207345</td>\n      <td>1.244004</td>\n      <td>0.0</td>\n      <td>3.797229</td>\n      <td>2.251726</td>\n      <td>1.426518</td>\n      <td>0.866242</td>\n      <td>0.973408</td>\n      <td>0.882084</td>\n      <td>0.871331</td>\n      <td>1.361302</td>\n      <td>0.656855</td>\n      <td>0.870714</td>\n      <td>1.630708</td>\n      <td>2.39007</td>\n      <td>1.108701</td>\n      <td>0.852765</td>\n      <td>1.258745</td>\n      <td>0.981158</td>\n      <td>0.0</td>\n      <td>1.341918</td>\n      <td>0.0</td>\n      <td>2.202229</td>\n      <td>1.590176</td>\n      <td>0.819367</td>\n      <td>0.984647</td>\n      <td>2.726151</td>\n      <td>1.868613</td>\n      <td>0.793673</td>\n      <td>0.762675</td>\n      <td>1.998928</td>\n    </tr>\n    <tr>\n      <th>min</th>\n      <td>0.0</td>\n      <td>7.380000</td>\n      <td>0.000000</td>\n      <td>1.070000</td>\n      <td>6.420000</td>\n      <td>3.840000</td>\n      <td>6.820000</td>\n      <td>4.410000</td>\n      <td>5.510000</td>\n      <td>6.220000</td>\n      <td>0.000000</td>\n      <td>0.000000</td>\n      <td>6.220000</td>\n      <td>6.670000</td>\n      <td>4.41000</td>\n      <td>0.000000</td>\n      <td>3.830000</td>\n      <td>0.000000</td>\n      <td>0.000000</td>\n      <td>3.020000</td>\n      <td>0.0</td>\n      <td>6.510000</td>\n      <td>6.400000</td>\n      <td>6.890000</td>\n      <td>5.230000</td>\n      <td>3.490000</td>\n      <td>0.0</td>\n      <td>0.000000</td>\n      <td>0.000000</td>\n      <td>3.530000</td>\n      <td>6.060000</td>\n      <td>6.220000</td>\n      <td>6.420000</td>\n      <td>5.790000</td>\n      <td>6.180000</td>\n      <td>6.160000</td>\n      <td>4.650000</td>\n      <td>3.480000</td>\n      <td>2.04000</td>\n      <td>5.820000</td>\n      <td>6.400000</td>\n      <td>1.800000</td>\n      <td>6.390000</td>\n      <td>0.0</td>\n      <td>2.900000</td>\n      <td>0.0</td>\n      <td>0.000000</td>\n      <td>4.390000</td>\n      <td>4.790000</td>\n      <td>6.800000</td>\n      <td>0.000000</td>\n      <td>4.410000</td>\n      <td>5.580000</td>\n      <td>6.420000</td>\n      <td>2.260000</td>\n    </tr>\n    <tr>\n      <th>25%</th>\n      <td>0.0</td>\n      <td>8.252500</td>\n      <td>0.000000</td>\n      <td>6.522500</td>\n      <td>7.695000</td>\n      <td>5.072500</td>\n      <td>7.865000</td>\n      <td>7.015000</td>\n      <td>7.097500</td>\n      <td>7.172500</td>\n      <td>0.000000</td>\n      <td>4.330000</td>\n      <td>7.110000</td>\n      <td>7.782500</td>\n      <td>6.42750</td>\n      <td>6.060000</td>\n      <td>5.200000</td>\n      <td>0.000000</td>\n      <td>3.082500</td>\n      <td>5.452500</td>\n      <td>0.0</td>\n      <td>7.512500</td>\n      <td>7.172500</td>\n      <td>7.932500</td>\n      <td>7.030000</td>\n      <td>6.115000</td>\n      <td>0.0</td>\n      <td>0.000000</td>\n      <td>4.707500</td>\n      <td>6.027500</td>\n      <td>6.995000</td>\n      <td>7.302500</td>\n      <td>7.512500</td>\n      <td>6.447500</td>\n      <td>7.172500</td>\n      <td>6.792500</td>\n      <td>6.412500</td>\n      <td>4.642500</td>\n      <td>2.58250</td>\n      <td>7.745000</td>\n      <td>7.302500</td>\n      <td>2.645000</td>\n      <td>7.715000</td>\n      <td>0.0</td>\n      <td>5.940000</td>\n      <td>0.0</td>\n      <td>4.762500</td>\n      <td>5.105000</td>\n      <td>6.317500</td>\n      <td>7.800000</td>\n      <td>5.892500</td>\n      <td>7.227500</td>\n      <td>6.630000</td>\n      <td>7.107500</td>\n      <td>3.270000</td>\n    </tr>\n    <tr>\n      <th>50%</th>\n      <td>0.0</td>\n      <td>8.890000</td>\n      <td>0.000000</td>\n      <td>6.920000</td>\n      <td>8.670000</td>\n      <td>6.375000</td>\n      <td>9.075000</td>\n      <td>7.845000</td>\n      <td>8.510000</td>\n      <td>7.655000</td>\n      <td>0.000000</td>\n      <td>5.445000</td>\n      <td>7.795000</td>\n      <td>8.190000</td>\n      <td>7.07500</td>\n      <td>7.330000</td>\n      <td>6.285000</td>\n      <td>6.500000</td>\n      <td>3.735000</td>\n      <td>6.700000</td>\n      <td>0.0</td>\n      <td>8.065000</td>\n      <td>7.660000</td>\n      <td>8.705000</td>\n      <td>8.005000</td>\n      <td>6.895000</td>\n      <td>0.0</td>\n      <td>6.690000</td>\n      <td>5.950000</td>\n      <td>6.790000</td>\n      <td>7.465000</td>\n      <td>7.665000</td>\n      <td>8.070000</td>\n      <td>7.135000</td>\n      <td>8.195000</td>\n      <td>7.325000</td>\n      <td>7.175000</td>\n      <td>6.235000</td>\n      <td>6.80500</td>\n      <td>8.770000</td>\n      <td>7.705000</td>\n      <td>3.220000</td>\n      <td>8.230000</td>\n      <td>0.0</td>\n      <td>6.905000</td>\n      <td>0.0</td>\n      <td>6.070000</td>\n      <td>6.770000</td>\n      <td>6.930000</td>\n      <td>8.885000</td>\n      <td>6.855000</td>\n      <td>9.055000</td>\n      <td>7.075000</td>\n      <td>7.580000</td>\n      <td>5.445000</td>\n    </tr>\n    <tr>\n      <th>75%</th>\n      <td>0.0</td>\n      <td>10.492500</td>\n      <td>3.147500</td>\n      <td>7.290000</td>\n      <td>9.307500</td>\n      <td>7.677500</td>\n      <td>9.455000</td>\n      <td>8.327500</td>\n      <td>9.140000</td>\n      <td>8.242500</td>\n      <td>0.000000</td>\n      <td>6.005000</td>\n      <td>8.802500</td>\n      <td>8.797500</td>\n      <td>7.71500</td>\n      <td>8.367500</td>\n      <td>7.490000</td>\n      <td>7.667500</td>\n      <td>4.562500</td>\n      <td>7.255000</td>\n      <td>0.0</td>\n      <td>8.585000</td>\n      <td>8.410000</td>\n      <td>9.385000</td>\n      <td>8.617500</td>\n      <td>7.550000</td>\n      <td>0.0</td>\n      <td>7.692500</td>\n      <td>7.432500</td>\n      <td>7.460000</td>\n      <td>8.007500</td>\n      <td>8.455000</td>\n      <td>8.675000</td>\n      <td>7.937500</td>\n      <td>9.352500</td>\n      <td>7.777500</td>\n      <td>7.655000</td>\n      <td>7.512500</td>\n      <td>7.33250</td>\n      <td>9.412500</td>\n      <td>8.327500</td>\n      <td>4.790000</td>\n      <td>8.912500</td>\n      <td>0.0</td>\n      <td>7.677500</td>\n      <td>0.0</td>\n      <td>7.105000</td>\n      <td>7.830000</td>\n      <td>7.470000</td>\n      <td>9.372500</td>\n      <td>7.620000</td>\n      <td>9.672500</td>\n      <td>7.612500</td>\n      <td>8.145000</td>\n      <td>6.607500</td>\n    </tr>\n    <tr>\n      <th>max</th>\n      <td>0.0</td>\n      <td>15.120000</td>\n      <td>10.220000</td>\n      <td>8.680000</td>\n      <td>11.880000</td>\n      <td>9.500000</td>\n      <td>11.080000</td>\n      <td>9.580000</td>\n      <td>12.000000</td>\n      <td>10.010000</td>\n      <td>8.500000</td>\n      <td>7.490000</td>\n      <td>11.380000</td>\n      <td>10.560000</td>\n      <td>8.38000</td>\n      <td>9.240000</td>\n      <td>8.330000</td>\n      <td>8.460000</td>\n      <td>8.330000</td>\n      <td>8.330000</td>\n      <td>0.0</td>\n      <td>10.320000</td>\n      <td>10.010000</td>\n      <td>11.520000</td>\n      <td>10.010000</td>\n      <td>8.810000</td>\n      <td>0.0</td>\n      <td>8.330000</td>\n      <td>9.580000</td>\n      <td>9.390000</td>\n      <td>9.680000</td>\n      <td>10.080000</td>\n      <td>10.080000</td>\n      <td>8.800000</td>\n      <td>11.520000</td>\n      <td>8.800000</td>\n      <td>8.800000</td>\n      <td>8.520000</td>\n      <td>8.54000</td>\n      <td>10.170000</td>\n      <td>10.010000</td>\n      <td>5.830000</td>\n      <td>10.320000</td>\n      <td>0.0</td>\n      <td>8.980000</td>\n      <td>0.0</td>\n      <td>8.380000</td>\n      <td>10.010000</td>\n      <td>8.330000</td>\n      <td>10.320000</td>\n      <td>8.800000</td>\n      <td>11.520000</td>\n      <td>9.130000</td>\n      <td>9.660000</td>\n      <td>8.980000</td>\n    </tr>\n  </tbody>\n</table>\n</div>"
     },
     "metadata": {},
     "execution_count": 36
    }
   ],
   "source": [
    "import pandas as pd\n",
    "df=pd.read_csv(\"datasets/minwage.csv\")\n",
    "gb=df.groupby(\"State\")\n",
    "\n",
    "act_min_wage = pd.DataFrame()\n",
    "\n",
    "for name, group in df.groupby(\"State\"):\n",
    "    if act_min_wage.empty:\n",
    "        act_min_wage = group.set_index(\"Year\")[[\"Low.2018\"]].rename(columns={\"Low.2018\":name})\n",
    "    else:\n",
    "        act_min_wage = act_min_wage.join(group.set_index(\"Year\")[[\"Low.2018\"]].rename(columns={\"Low.2018\":name}))\n",
    "\n",
    "act_min_wage.describe()\n",
    ""
   ]
  },
  {
   "cell_type": "code",
   "execution_count": 10,
   "metadata": {},
   "outputs": [
    {
     "output_type": "execute_result",
     "data": {
      "text/plain": "array(['Albany', 'Atlanta', 'BaltimoreWashington', 'Boise', 'Boston',\n       'BuffaloRochester', 'California', 'Charlotte', 'Chicago',\n       'CincinnatiDayton', 'Columbus', 'DallasFtWorth', 'Denver',\n       'Detroit', 'GrandRapids', 'GreatLakes', 'HarrisburgScranton',\n       'HartfordSpringfield', 'Houston', 'Indianapolis', 'Jacksonville',\n       'LasVegas', 'LosAngeles', 'Louisville', 'MiamiFtLauderdale',\n       'Midsouth', 'Nashville', 'NewOrleansMobile', 'NewYork',\n       'Northeast', 'NorthernNewEngland', 'Orlando', 'Philadelphia',\n       'PhoenixTucson', 'Pittsburgh', 'Plains', 'Portland',\n       'RaleighGreensboro', 'RichmondNorfolk', 'Roanoke', 'Sacramento',\n       'SanDiego', 'SanFrancisco', 'Seattle', 'SouthCarolina',\n       'SouthCentral', 'Southeast', 'Spokane', 'StLouis', 'Syracuse',\n       'Tampa', 'TotalUS', 'West', 'WestTexNewMexico'], dtype=object)"
     },
     "metadata": {},
     "execution_count": 10
    }
   ],
   "source": [
    "import pandas as pd\n",
    "df=pd.read_csv(\"datasets/avocado.csv\")\n",
    "df['Date'] = pd.to_datetime(df['Date'])\n",
    "#df.head()\n",
    "#df.tail(1)\n",
    "#df['AveragePrice'].head()\n",
    "#df.AveragePrice.head()\n",
    "albany_df = df[df['region']==\"Albany\"]\n",
    "albany_df.set_index(\"Date\",inplace=True)\n",
    "albany_df.sort_index(inplace=True)\n",
    "albany_df['price25ma']=albany_df[\"AveragePrice\"].rolling(25).mean()\n",
    "#albany_df.price25ma.plot()\n",
    "albany_df.tail()\n",
    "df.region.unique()\n"
   ]
  }
 ]
}